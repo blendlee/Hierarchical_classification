{
 "cells": [
  {
   "cell_type": "code",
   "execution_count": 1,
   "metadata": {},
   "outputs": [],
   "source": [
    "import pandas as pd"
   ]
  },
  {
   "cell_type": "code",
   "execution_count": 8,
   "metadata": {},
   "outputs": [],
   "source": [
    "text=[]\n",
    "y=[]\n",
    "y1=[]\n",
    "y2=[]\n",
    "\n",
    "text_dir= '../WebOfScience_Dataset/WOS5736/X.txt'\n",
    "y_dir= '../WebOfScience_Dataset/WOS5736/Y.txt'\n",
    "y1_dir = '../WebOfScience_Dataset/WOS5736/YL1.txt'\n",
    "y2_dir = '../WebOfScience_Dataset/WOS5736/YL2.txt'\n",
    "\n",
    "\n",
    "text_file = open(text_dir,'r')\n",
    "#while True:\n",
    "#    line = text_file.readline()\n",
    "#    if not line:\n",
    "#        break\n",
    "#    text.append(line.strip())\n",
    "#\n",
    "y_file = open(y_dir,'r')\n",
    "#while True:\n",
    "#    line = text_file.readline()\n",
    "#    if not line:\n",
    "#        break\n",
    "#    text.append(line.strip())\n",
    "#\n",
    "y1_file = open(y1_dir,'r')\n",
    "#while True:\n",
    "#    line = text_file.readline()\n",
    "#    if not line:\n",
    "#        break\n",
    "#    text.append(line.strip())\n",
    "#\n",
    "y2_file = open(y2_dir,'r')\n",
    "#while True:\n",
    "#    line = text_file.readline()\n",
    "#    if not line:\n",
    "#        break\n",
    "#    text.append(line.strip())\n",
    "\n",
    "text=text_file.readlines()\n",
    "y=y_file.readlines()\n",
    "y1=y1_file.readlines()\n",
    "y2=y2_file.readlines()\n",
    "\n",
    "text_file.close()\n",
    "y_file.close()\n",
    "y1_file.close()\n",
    "y2_file.close()\n",
    "\n",
    "for i in range(len(text)-1):\n",
    "    text[i] = text[i].strip()\n",
    "    y[i]=y[i].strip()\n",
    "    y1[i]=y1[i].strip()\n",
    "    y2[i]=y2[i].strip()"
   ]
  },
  {
   "cell_type": "code",
   "execution_count": 9,
   "metadata": {},
   "outputs": [
    {
     "name": "stdout",
     "output_type": "stream",
     "text": [
      "5736\n",
      "5736\n",
      "5736\n",
      "5736\n"
     ]
    }
   ],
   "source": [
    "print(len(text))\n",
    "print(len(y))\n",
    "print(len(y1))\n",
    "print(len(y2))"
   ]
  },
  {
   "cell_type": "code",
   "execution_count": 10,
   "metadata": {},
   "outputs": [],
   "source": [
    "df = pd.DataFrame({'abstract':text,'Y1':y1,'Y2':y2,'Y':y})"
   ]
  },
  {
   "cell_type": "code",
   "execution_count": 15,
   "metadata": {},
   "outputs": [
    {
     "data": {
      "text/html": [
       "<div>\n",
       "<style scoped>\n",
       "    .dataframe tbody tr th:only-of-type {\n",
       "        vertical-align: middle;\n",
       "    }\n",
       "\n",
       "    .dataframe tbody tr th {\n",
       "        vertical-align: top;\n",
       "    }\n",
       "\n",
       "    .dataframe thead th {\n",
       "        text-align: right;\n",
       "    }\n",
       "</style>\n",
       "<table border=\"1\" class=\"dataframe\">\n",
       "  <thead>\n",
       "    <tr style=\"text-align: right;\">\n",
       "      <th></th>\n",
       "      <th>abstract</th>\n",
       "      <th>Y1</th>\n",
       "      <th>Y2</th>\n",
       "      <th>Y</th>\n",
       "    </tr>\n",
       "  </thead>\n",
       "  <tbody>\n",
       "    <tr>\n",
       "      <th>0</th>\n",
       "      <td>Phytoplasmas are insectvectored bacteria that ...</td>\n",
       "      <td>2</td>\n",
       "      <td>2</td>\n",
       "      <td>9</td>\n",
       "    </tr>\n",
       "    <tr>\n",
       "      <th>1</th>\n",
       "      <td>Background alphaBisabolol also known as levome...</td>\n",
       "      <td>2</td>\n",
       "      <td>0</td>\n",
       "      <td>7</td>\n",
       "    </tr>\n",
       "    <tr>\n",
       "      <th>2</th>\n",
       "      <td>A universal feature of the replication of posi...</td>\n",
       "      <td>2</td>\n",
       "      <td>0</td>\n",
       "      <td>7</td>\n",
       "    </tr>\n",
       "    <tr>\n",
       "      <th>3</th>\n",
       "      <td>12Dichloropropane 12DCP and dichloromethane DC...</td>\n",
       "      <td>2</td>\n",
       "      <td>2</td>\n",
       "      <td>9</td>\n",
       "    </tr>\n",
       "    <tr>\n",
       "      <th>4</th>\n",
       "      <td>This paper presents the simulation results of ...</td>\n",
       "      <td>0</td>\n",
       "      <td>1</td>\n",
       "      <td>1</td>\n",
       "    </tr>\n",
       "    <tr>\n",
       "      <th>...</th>\n",
       "      <td>...</td>\n",
       "      <td>...</td>\n",
       "      <td>...</td>\n",
       "      <td>...</td>\n",
       "    </tr>\n",
       "    <tr>\n",
       "      <th>5731</th>\n",
       "      <td>The intercalation of Lphenylalanate LP into th...</td>\n",
       "      <td>1</td>\n",
       "      <td>2</td>\n",
       "      <td>5</td>\n",
       "    </tr>\n",
       "    <tr>\n",
       "      <th>5732</th>\n",
       "      <td>There is current interest in harnessing the co...</td>\n",
       "      <td>2</td>\n",
       "      <td>1</td>\n",
       "      <td>8</td>\n",
       "    </tr>\n",
       "    <tr>\n",
       "      <th>5733</th>\n",
       "      <td>Aim The zinc finger antiviral protein ZAP is a...</td>\n",
       "      <td>2</td>\n",
       "      <td>3</td>\n",
       "      <td>10</td>\n",
       "    </tr>\n",
       "    <tr>\n",
       "      <th>5734</th>\n",
       "      <td>The present article reviews the biotechnologic...</td>\n",
       "      <td>2</td>\n",
       "      <td>0</td>\n",
       "      <td>7</td>\n",
       "    </tr>\n",
       "    <tr>\n",
       "      <th>5735</th>\n",
       "      <td>This paper focuses on a new kind of artificial...</td>\n",
       "      <td>0</td>\n",
       "      <td>1</td>\n",
       "      <td>1</td>\n",
       "    </tr>\n",
       "  </tbody>\n",
       "</table>\n",
       "<p>5736 rows × 4 columns</p>\n",
       "</div>"
      ],
      "text/plain": [
       "                                               abstract Y1 Y2   Y\n",
       "0     Phytoplasmas are insectvectored bacteria that ...  2  2   9\n",
       "1     Background alphaBisabolol also known as levome...  2  0   7\n",
       "2     A universal feature of the replication of posi...  2  0   7\n",
       "3     12Dichloropropane 12DCP and dichloromethane DC...  2  2   9\n",
       "4     This paper presents the simulation results of ...  0  1   1\n",
       "...                                                 ... .. ..  ..\n",
       "5731  The intercalation of Lphenylalanate LP into th...  1  2   5\n",
       "5732  There is current interest in harnessing the co...  2  1   8\n",
       "5733  Aim The zinc finger antiviral protein ZAP is a...  2  3  10\n",
       "5734  The present article reviews the biotechnologic...  2  0   7\n",
       "5735  This paper focuses on a new kind of artificial...  0  1   1\n",
       "\n",
       "[5736 rows x 4 columns]"
      ]
     },
     "execution_count": 15,
     "metadata": {},
     "output_type": "execute_result"
    }
   ],
   "source": [
    "import re\n",
    "def preprocess(df):\n",
    "    corpus=[]\n",
    "    for text in list(df['abstract']):\n",
    "        text = re.sub('[=+▲#/\\:^@*\\\"※~ㆍ!』|\\(\\)\\[\\]`\\…》\\·\\n]','',text)\n",
    "        text = re.sub('[,.]','',text)\n",
    "        corpus.append(text)\n",
    "\n",
    "    df['abstract'] = corpus\n",
    "\n",
    "    return df\n",
    "preprocess(df)"
   ]
  },
  {
   "cell_type": "code",
   "execution_count": 17,
   "metadata": {},
   "outputs": [
    {
     "name": "stderr",
     "output_type": "stream",
     "text": [
      "usage: ipykernel_launcher.py [-h] [--num_train_epochs NUM_TRAIN_EPOCHS]\n",
      "ipykernel_launcher.py: error: unrecognized arguments: --ip=127.0.0.1 --stdin=9003 --control=9001 --hb=9000 --Session.signature_scheme=\"hmac-sha256\" --Session.key=b\"8e59aa44-69b0-4021-92fb-64099e2e51c3\" --shell=9002 --transport=\"tcp\" --iopub=9004 --f=c:\\Users\\dlwns\\AppData\\Roaming\\jupyter\\runtime\\kernel-v2-11764KfbFLYMJ0H1p.json\n"
     ]
    },
    {
     "ename": "SystemExit",
     "evalue": "2",
     "output_type": "error",
     "traceback": [
      "An exception has occurred, use %tb to see the full traceback.\n",
      "\u001b[1;31mSystemExit\u001b[0m\u001b[1;31m:\u001b[0m 2\n"
     ]
    },
    {
     "name": "stderr",
     "output_type": "stream",
     "text": [
      "c:\\Users\\dlwns\\AppData\\Local\\Programs\\Python\\Python310\\lib\\site-packages\\IPython\\core\\interactiveshell.py:3406: UserWarning: To exit: use 'exit', 'quit', or Ctrl-D.\n",
      "  warn(\"To exit: use 'exit', 'quit', or Ctrl-D.\", stacklevel=1)\n"
     ]
    }
   ],
   "source": [
    "import argparse\n",
    "parser = argparse.ArgumentParser()\n",
    "parser.add_argument('--num_train_epochs',type=int,default=20)\n",
    "args = parser.parse_args()"
   ]
  },
  {
   "cell_type": "code",
   "execution_count": 28,
   "metadata": {},
   "outputs": [],
   "source": [
    "a = ['Category 1    >> accuracy : 0.8466, precision : 0.4721 , f1-score : 0.4695 , recall : 0.4671',\n",
    "'Category 2    >> accuracy : 0.6149, precision : 0.4615 , f1-score : 0.3972 , recall : 0.3756',\n",
    "'Category 3    >> accuracy : 0.8362, precision : 0.4657 , f1-score : 0.4657 , recall : 0.4657',\n",
    "'Category 4    >> accuracy : 0.8745, precision : 0.5183 , f1-score : 0.5162 , recall : 0.5152',\n",
    "'Category 5    >> accuracy : 0.6411, precision : 0.4913 , f1-score : 0.4325 , recall : 0.4684',\n",
    "'Category 6    >> accuracy : 0.9372, precision : 0.5170 , f1-score : 0.5100 , recall : 0.5090',\n",
    "'Category 7    >> accuracy : 0.6010, precision : 0.4831 , f1-score : 0.4058 , recall : 0.4296',\n",
    "'Category 8    >> accuracy : 0.5226, precision : 0.4990 , f1-score : 0.4455 , recall : 0.4983',\n",
    "'Category 9    >> accuracy : 0.3519, precision : 0.4985 , f1-score : 0.3243 , recall : 0.4968',\n",
    "'Category 10   >> accuracy : 0.8710, precision : 0.4355 , f1-score : 0.4655 , recall : 0.5',\n",
    "'Category 11   >> accuracy : 0.8188, precision : 0.5234 , f1-score : 0.5160 , recall : 0.5158']"
   ]
  },
  {
   "cell_type": "code",
   "execution_count": 29,
   "metadata": {},
   "outputs": [
    {
     "data": {
      "text/plain": [
       "'0.8188'"
      ]
     },
     "execution_count": 29,
     "metadata": {},
     "output_type": "execute_result"
    }
   ],
   "source": [
    "a[10][28:34]"
   ]
  },
  {
   "cell_type": "code",
   "execution_count": 30,
   "metadata": {},
   "outputs": [
    {
     "name": "stdout",
     "output_type": "stream",
     "text": [
      "0.7196181818181817\n",
      "0.4877636363636364\n",
      "0.44983636363636365\n",
      "0.47650000000000003\n"
     ]
    }
   ],
   "source": [
    "acc=[]\n",
    "pre=[]\n",
    "f1=[]\n",
    "rec=[]\n",
    "for i  in a:\n",
    "    acc.append(float(i[28:34]))\n",
    "    pre.append(float(i[48:54]))\n",
    "    f1.append(float(i[68:74]))\n",
    "    rec.append(float(i[86:]))\n",
    "print(sum(acc)/11)\n",
    "print(sum(pre)/11)\n",
    "print(sum(f1)/11)\n",
    "print(sum(rec)/11)"
   ]
  },
  {
   "cell_type": "code",
   "execution_count": null,
   "metadata": {},
   "outputs": [],
   "source": []
  }
 ],
 "metadata": {
  "kernelspec": {
   "display_name": "Python 3.9.2 64-bit",
   "language": "python",
   "name": "python3"
  },
  "language_info": {
   "codemirror_mode": {
    "name": "ipython",
    "version": 3
   },
   "file_extension": ".py",
   "mimetype": "text/x-python",
   "name": "python",
   "nbconvert_exporter": "python",
   "pygments_lexer": "ipython3",
   "version": "3.9.2"
  },
  "orig_nbformat": 4,
  "vscode": {
   "interpreter": {
    "hash": "5e82c9cd7f7f88235304ad1037da45d7cdc2788f471023170cdd87960e91dd34"
   }
  }
 },
 "nbformat": 4,
 "nbformat_minor": 2
}
