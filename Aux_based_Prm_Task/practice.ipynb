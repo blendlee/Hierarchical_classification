{
 "cells": [
  {
   "cell_type": "code",
   "execution_count": 2,
   "metadata": {},
   "outputs": [
    {
     "name": "stdout",
     "output_type": "stream",
     "text": [
      "tensor([[[-0.1694, -1.2799, -0.1307, -1.1707, -0.2620],\n",
      "         [-2.2695, -0.0410, -0.7974, -0.1232, -3.5098],\n",
      "         [-1.5344, -1.5813, -1.9803, -1.1805, -2.0902]],\n",
      "\n",
      "        [[-1.8591, -0.3258, -2.0996, -0.3713, -1.4674],\n",
      "         [-0.1091, -3.2141, -0.5987, -2.1551, -0.0304],\n",
      "         [-0.2428, -0.2303, -0.1485, -0.3669, -0.1320]]],\n",
      "       grad_fn=<LogSoftmaxBackward0>)\n",
      "tensor([[[0.5232, 0.6988, 0.3724, 0.4668, 0.4412],\n",
      "         [0.5199, 0.3553, 0.6067, 0.5664, 0.4472],\n",
      "         [0.4860, 0.5843, 0.6478, 0.3697, 0.6642]],\n",
      "\n",
      "        [[0.4768, 0.3012, 0.6276, 0.5332, 0.5588],\n",
      "         [0.4801, 0.6447, 0.3933, 0.4336, 0.5528],\n",
      "         [0.5140, 0.4157, 0.3522, 0.6303, 0.3358]]])\n",
      "tensor(3.4623, grad_fn=<DivBackward0>)\n"
     ]
    },
    {
     "name": "stderr",
     "output_type": "stream",
     "text": [
      "C:\\Users\\llsh5\\AppData\\Local\\Temp\\ipykernel_32620\\2994348724.py:6: UserWarning: Implicit dimension choice for log_softmax has been deprecated. Change the call to include dim=X as an argument.\n",
      "  input = F.log_softmax(torch.randn(2,3, 5, requires_grad=True))\n",
      "C:\\Users\\llsh5\\AppData\\Local\\Temp\\ipykernel_32620\\2994348724.py:8: UserWarning: Implicit dimension choice for softmax has been deprecated. Change the call to include dim=X as an argument.\n",
      "  target = F.softmax(torch.rand(2,3, 5))\n"
     ]
    }
   ],
   "source": [
    "import torch.nn as nn\n",
    "import torch.nn.functional as F\n",
    "import torch\n",
    "\n",
    "kl_loss = nn.KLDivLoss(reduction=\"batchmean\")\n",
    "input = F.log_softmax(torch.randn(2,3, 5, requires_grad=True))\n",
    "print(input)\n",
    "target = F.softmax(torch.rand(2,3, 5))\n",
    "print(target)\n",
    "output = kl_loss(input, target)\n",
    "print(output)"
   ]
  },
  {
   "cell_type": "code",
   "execution_count": null,
   "metadata": {},
   "outputs": [],
   "source": []
  }
 ],
 "metadata": {
  "kernelspec": {
   "display_name": "Python 3.9.2 64-bit",
   "language": "python",
   "name": "python3"
  },
  "language_info": {
   "codemirror_mode": {
    "name": "ipython",
    "version": 3
   },
   "file_extension": ".py",
   "mimetype": "text/x-python",
   "name": "python",
   "nbconvert_exporter": "python",
   "pygments_lexer": "ipython3",
   "version": "3.9.2"
  },
  "orig_nbformat": 4,
  "vscode": {
   "interpreter": {
    "hash": "5e82c9cd7f7f88235304ad1037da45d7cdc2788f471023170cdd87960e91dd34"
   }
  }
 },
 "nbformat": 4,
 "nbformat_minor": 2
}
