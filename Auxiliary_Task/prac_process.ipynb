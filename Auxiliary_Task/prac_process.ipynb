{
 "cells": [
  {
   "cell_type": "code",
   "execution_count": 1,
   "metadata": {},
   "outputs": [
    {
     "name": "stdout",
     "output_type": "stream",
     "text": [
      "[WinError 123] 파일 이름, 디렉터리 이름 또는 볼륨 레이블 구문이 잘못되었습니다: \"'X:\\\\연대\\\\Convei Lab\\\\인턴 과제1(AttLSTM (Aux+Prm))\\\\code'\"\n",
      "x:\\연대\\Convei Lab\\인턴 과제1(AttLSTM (Aux+Prm))\\code\n"
     ]
    }
   ],
   "source": [
    "%cd 'X:\\연대\\Convei Lab\\인턴 과제1(AttLSTM (Aux+Prm))\\code'"
   ]
  },
  {
   "cell_type": "code",
   "execution_count": 2,
   "metadata": {},
   "outputs": [],
   "source": [
    "import argparse\n",
    "from preprocess import process_data,load_script_with_preprocessed\n",
    "from tokenizer import build_vocab,tokenize\n",
    "\n",
    "\n",
    "args=argparse.Namespace(\n",
    "    meta_data_pth='../Deliver_dataset/meta_information/metadata.csv',\n",
    "    mpaa_data_pth='../Deliver_dataset/meta_information/MPAA_components.csv',\n",
    "    script_pth='../Deliver_dataset/Script',\n",
    "    max_freq=1\n",
    ")\n",
    "\n",
    "\n",
    "\n",
    "data = process_data(args.meta_data_pth,args.mpaa_data_pth,args.script_pth)\n",
    "data,corpus = load_script_with_preprocessed(data,args.script_pth)\n",
    "id2token,token2id = build_vocab(corpus,args.max_freq)\n"
   ]
  },
  {
   "cell_type": "code",
   "execution_count": 3,
   "metadata": {},
   "outputs": [],
   "source": [
    "tokenized_train_script = tokenize(data,token2id)"
   ]
  },
  {
   "cell_type": "code",
   "execution_count": 6,
   "metadata": {},
   "outputs": [
    {
     "data": {
      "text/plain": [
       "31159"
      ]
     },
     "execution_count": 6,
     "metadata": {},
     "output_type": "execute_result"
    }
   ],
   "source": [
    "len(tokenized_train_script[1])"
   ]
  },
  {
   "cell_type": "code",
   "execution_count": null,
   "metadata": {},
   "outputs": [],
   "source": []
  }
 ],
 "metadata": {
  "kernelspec": {
   "display_name": "Python 3.9.2 64-bit",
   "language": "python",
   "name": "python3"
  },
  "language_info": {
   "codemirror_mode": {
    "name": "ipython",
    "version": 3
   },
   "file_extension": ".py",
   "mimetype": "text/x-python",
   "name": "python",
   "nbconvert_exporter": "python",
   "pygments_lexer": "ipython3",
   "version": "3.9.2"
  },
  "orig_nbformat": 4,
  "vscode": {
   "interpreter": {
    "hash": "5e82c9cd7f7f88235304ad1037da45d7cdc2788f471023170cdd87960e91dd34"
   }
  }
 },
 "nbformat": 4,
 "nbformat_minor": 2
}
